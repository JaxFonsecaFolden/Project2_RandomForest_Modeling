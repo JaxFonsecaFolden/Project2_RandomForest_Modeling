{
 "cells": [
  {
   "cell_type": "markdown",
   "id": "6d8c5b26",
   "metadata": {},
   "source": [
    "## **Detecting Financial Crimes and Money Laundering**\n",
    "In today’s world, banks have become well integrated into the technological era. This significant shift created an easy way of securing and monitoring money. Conversely, the transition provided a gateway for cyber criminals to target account holders of any bank. There are many transgressions that fall under financial crimes, however his project will focus on *Money Laundering*, which is defined by the federal government as the willingness to engage in illegal activity, which provides monetary value, and disguises assets as legal sources of income (U.S. Treasury, n.d.). The primary objective of this research is “How can we accurately detect fraudulent activity in regards to money laundering?”\n",
    "\n",
    "#### **History**\n",
    "\n",
    "Prior to uncovering such a prevalent issue, it is important to understand the origins of this type of financial crime. To launder money was to find some means of concealing one’s source of income and disguising it as something legal (FCA 2025). In doing so, this allowed illegal activity to happen under government regimes, and made it almost impossible to catch. The most notable timeframe in which money laundering played a big role in the history of the United States, was during the Prohibition era (FCA 2025). During this timeframe, the use of drinking alcoholic beverages was protested by mainly religious organizations as a way to revitalize the ‘ill parts’ of society (Britannica 2025). There is still uncertainty as to why alcohol was believed to resolve such societal issues, but what is known is that congress banned the consumption of alcohol. \n",
    "\n",
    "This consequently led to the most elaborate organized crime schemes in the United States, where mobsters distributed alcohol under the table. Concurrently, these small groups formed gangs hiring lawyers and accountants to hide their illegal activity (Roos, n.d.). This being the start of how money laundering integrated in the U.S. today. The amount of income from these organized groups funded hotels, casinos, and ultimately the black market (Roos, n.d.). In current times, this level of financial crime no longer exists given the changes within society and technological advancement. Although, attempts are still being made and now have become much more sophisticated to investigate. \n",
    "\n",
    "#### **Data**\n",
    "The data being used in this research comes from the open source website [Kaggle](https://www.kaggle.com/). Within this site, there were several suitable datasets, however, the one chosen for this project was created by Erik Altman, [IBM Transactions for Anti Money Laundering (AML)](https://www.kaggle.com/datasets/ealtman2019/ibm-transactions-for-anti-money-laundering-aml). He had created a virtual world reflective of the society and its entities (Altman 2021). The idea of this synthetic data is to simulate the different possibilities of money laundering, while also being able to confidently code the true successes of transactional fraud."
   ]
  },
  {
   "cell_type": "code",
   "execution_count": null,
   "id": "003e0385",
   "metadata": {},
   "outputs": [],
   "source": [
    "import pandas as pd\n",
    "\n",
    "accounts = pd.read_csv('Files_CSV/HI-Small_accounts.csv')\n",
    "transactions = pd.read_csv('Files_CSV/HI-Small_Trans.csv')"
   ]
  },
  {
   "cell_type": "markdown",
   "id": "5908bdee",
   "metadata": {},
   "source": [
    "#### *HI-Small_accounts.csv*\n",
    "Contains a total of 518,581 rows, which are representative of all the accounts utilized in the simulated transactions data. Since the simulation is reflective of society, this dataset also has 501 banks. Each bank has any number of accounts utilized under their bank, as well as any number of branching banks with the same name. However, the *HI-Small_accounts.csv* does encrypt each bank entity itself with a specialized number to distinguish it from other branching bank entities. In doing this, it does lead a significant number of null values when splitting the banks from their specialized number. In contrast, this does not effect the dataset in any way, as it is a column there for assessing the relationships of each feature. Lastly, the data also contains the account type, also known as the reasoning for the existence of such an account. There are only 6 types: *Sole Proprietorship*, *Corporation*, *Partnership*, *Country*, *Individual*, and *Direct*."
   ]
  },
  {
   "cell_type": "code",
   "execution_count": 11,
   "id": "03e7b49c",
   "metadata": {},
   "outputs": [
    {
     "name": "stdout",
     "output_type": "stream",
     "text": [
      "Total Rows/Accounts: 518581\n",
      "Total Banks: 501\n",
      "Total Entities: 6\n",
      "\n",
      "Bank Name               0\n",
      "Bank ID                 0\n",
      "Account Number          0\n",
      "Entity ID               0\n",
      "Entity Name             0\n",
      "Bank Name (2)           0\n",
      "Bank Name (3)      201080\n",
      "Entity Name (2)         0\n",
      "Entity Name (3)         0\n",
      "dtype: int64\n"
     ]
    }
   ],
   "source": [
    "# Split Columns\n",
    "accounts[['Bank Name (2)', 'Bank Name (3)']] = accounts['Bank Name'].str.split('#', n=1, expand=True)\n",
    "accounts[['Entity Name (2)', 'Entity Name (3)']] = accounts['Entity Name'].str.split('#', n=1, expand=True)\n",
    "\n",
    "print(f'Total Rows/Accounts: {len(accounts)}')\n",
    "print(f'Total Banks: {len(accounts['Bank Name (2)'].drop_duplicates())}')\n",
    "print(f'Total Entities: {len(accounts['Entity Name (2)'].drop_duplicates())}')\n",
    "print()\n",
    "print(accounts.isna().sum())"
   ]
  },
  {
   "cell_type": "markdown",
   "id": "79e79ad2",
   "metadata": {},
   "source": [
    "#### *HI-Small_Trans.csv*\n",
    "This dataset consists of all the transactions in a simulated world of 18 days. It has 5,078,345 total transactions, which is a mixture of all accounts from the *HI-Small_accounts.csv*. In terms of fraud detection, *Is Laundering* is the column at hand for testing. It is a boolean variable coded as True (1) or False (0). From this data, there is a total of 5,177 fraudulent transactions, this being about 0.1% of the total data. In light of this, it creates challenges of optimizing predictive modeling. Nevertheless, these datasets are highly reflective of how ingrained and difficult catching money laundering schemes are."
   ]
  },
  {
   "cell_type": "code",
   "execution_count": 14,
   "id": "9c4fbc87",
   "metadata": {},
   "outputs": [
    {
     "name": "stdout",
     "output_type": "stream",
     "text": [
      "HI-Small_Trans.csv\n",
      "Total Rows: 5078345\n",
      "Total Laundering: 5177\n",
      "Percent of Laundering: 0.1%\n",
      "\n",
      "Timestamp             0\n",
      "From Bank             0\n",
      "Acc. Orig.            0\n",
      "To Bank               0\n",
      "Acc. End              0\n",
      "Amount Received       0\n",
      "Receiving Currency    0\n",
      "Amount Paid           0\n",
      "Payment Currency      0\n",
      "Payment Format        0\n",
      "Is Laundering         0\n",
      "dtype: int64\n"
     ]
    }
   ],
   "source": [
    "count_ML = len(transactions[transactions['Is Laundering'] == 1])\n",
    "count_Trans = len(transactions)\n",
    "\n",
    "print('HI-Small_Trans.csv')\n",
    "print(f'Total Rows: {count_Trans}')\n",
    "print(f'Total Laundering: {count_ML}')\n",
    "print(f'Percent of Laundering: {(count_ML/count_Trans)*100:.1f}%')\n",
    "print()\n",
    "print(transactions.isna().sum())"
   ]
  },
  {
   "cell_type": "markdown",
   "id": "08d8557d",
   "metadata": {},
   "source": [
    "#### **Standardizing & Normalize**\n",
    "- Clarifying matching column names\n",
    "- Turning columns into respective data types\n",
    "- Feature Engineering (Refer to Discovery.ipynb)\n",
    "    - Create boolean value columns\n",
    "    - Focus will be on receiving banks and their respective accounts\n",
    "- Drop Columns\n",
    "\n",
    "*Will write in detail later"
   ]
  },
  {
   "cell_type": "code",
   "execution_count": 36,
   "id": "5a25fcff",
   "metadata": {},
   "outputs": [
    {
     "data": {
      "application/vnd.microsoft.datawrangler.viewer.v0+json": {
       "columns": [
        {
         "name": "index",
         "rawType": "int64",
         "type": "integer"
        },
        {
         "name": "Amount Received",
         "rawType": "float64",
         "type": "float"
        },
        {
         "name": "Is Laundering",
         "rawType": "int64",
         "type": "integer"
        },
        {
         "name": "Is ACH",
         "rawType": "bool",
         "type": "boolean"
        },
        {
         "name": "T/F Bank Diff",
         "rawType": "bool",
         "type": "boolean"
        },
        {
         "name": "Sus. Bank",
         "rawType": "bool",
         "type": "boolean"
        },
        {
         "name": "Sus. Acc.",
         "rawType": "bool",
         "type": "boolean"
        }
       ],
       "ref": "4bcd4fcd-561b-486e-a053-4af3d4243c6f",
       "rows": [
        [
         "0",
         "3697.34",
         "0",
         "False",
         "False",
         "True",
         "False"
        ],
        [
         "1",
         "0.01",
         "0",
         "False",
         "True",
         "True",
         "False"
        ],
        [
         "2",
         "14675.57",
         "0",
         "False",
         "False",
         "False",
         "False"
        ],
        [
         "3",
         "2806.97",
         "0",
         "False",
         "False",
         "True",
         "True"
        ],
        [
         "4",
         "36682.97",
         "0",
         "False",
         "False",
         "True",
         "False"
        ],
        [
         "5",
         "6162.44",
         "0",
         "False",
         "False",
         "True",
         "False"
        ],
        [
         "6",
         "14.26",
         "0",
         "False",
         "False",
         "True",
         "False"
        ],
        [
         "7",
         "11.86",
         "0",
         "False",
         "False",
         "True",
         "False"
        ],
        [
         "8",
         "7.66",
         "0",
         "False",
         "True",
         "True",
         "False"
        ],
        [
         "9",
         "383.71",
         "0",
         "False",
         "True",
         "True",
         "False"
        ],
        [
         "10",
         "9.82",
         "0",
         "False",
         "True",
         "True",
         "False"
        ],
        [
         "11",
         "9.38",
         "0",
         "False",
         "False",
         "True",
         "False"
        ],
        [
         "12",
         "4.01",
         "0",
         "False",
         "True",
         "False",
         "False"
        ],
        [
         "13",
         "106.7",
         "0",
         "False",
         "True",
         "True",
         "False"
        ],
        [
         "14",
         "0.54",
         "0",
         "False",
         "True",
         "True",
         "False"
        ],
        [
         "15",
         "3944232.29",
         "0",
         "False",
         "False",
         "True",
         "False"
        ],
        [
         "16",
         "10020.68",
         "0",
         "False",
         "False",
         "True",
         "False"
        ],
        [
         "17",
         "897.37",
         "0",
         "False",
         "False",
         "True",
         "False"
        ],
        [
         "18",
         "157.57",
         "0",
         "False",
         "False",
         "True",
         "False"
        ],
        [
         "19",
         "52.75",
         "0",
         "False",
         "False",
         "True",
         "False"
        ],
        [
         "20",
         "8163.85",
         "0",
         "False",
         "False",
         "True",
         "False"
        ],
        [
         "21",
         "5.74",
         "0",
         "False",
         "False",
         "True",
         "False"
        ],
        [
         "22",
         "46.86",
         "0",
         "False",
         "True",
         "True",
         "False"
        ],
        [
         "23",
         "9.89",
         "0",
         "False",
         "False",
         "True",
         "False"
        ],
        [
         "24",
         "86.3",
         "0",
         "False",
         "True",
         "True",
         "False"
        ],
        [
         "25",
         "3.16",
         "0",
         "False",
         "True",
         "False",
         "False"
        ],
        [
         "26",
         "780457.62",
         "0",
         "False",
         "False",
         "True",
         "False"
        ],
        [
         "27",
         "748.62",
         "0",
         "False",
         "False",
         "True",
         "False"
        ],
        [
         "28",
         "1210984.0",
         "0",
         "True",
         "True",
         "True",
         "False"
        ],
        [
         "29",
         "38386097.0",
         "0",
         "False",
         "True",
         "True",
         "False"
        ],
        [
         "30",
         "956.43",
         "0",
         "False",
         "False",
         "True",
         "False"
        ],
        [
         "31",
         "43.44",
         "0",
         "False",
         "False",
         "False",
         "False"
        ],
        [
         "32",
         "159271.0",
         "0",
         "True",
         "True",
         "True",
         "False"
        ],
        [
         "33",
         "3.62",
         "0",
         "False",
         "True",
         "True",
         "False"
        ],
        [
         "34",
         "192.83",
         "0",
         "False",
         "True",
         "True",
         "False"
        ],
        [
         "35",
         "4295104.54",
         "0",
         "False",
         "False",
         "True",
         "False"
        ],
        [
         "36",
         "3203.2",
         "0",
         "False",
         "False",
         "True",
         "False"
        ],
        [
         "37",
         "192154.42",
         "0",
         "False",
         "False",
         "True",
         "False"
        ],
        [
         "38",
         "152631.0",
         "0",
         "False",
         "True",
         "True",
         "False"
        ],
        [
         "39",
         "5069.19",
         "0",
         "False",
         "True",
         "True",
         "False"
        ],
        [
         "40",
         "29382.0",
         "0",
         "False",
         "True",
         "True",
         "False"
        ],
        [
         "41",
         "7.64",
         "0",
         "False",
         "False",
         "True",
         "False"
        ],
        [
         "42",
         "16.03",
         "0",
         "False",
         "True",
         "True",
         "False"
        ],
        [
         "43",
         "25.34",
         "0",
         "False",
         "True",
         "True",
         "False"
        ],
        [
         "44",
         "146.97",
         "0",
         "False",
         "True",
         "True",
         "False"
        ],
        [
         "45",
         "16.9",
         "0",
         "False",
         "True",
         "True",
         "False"
        ],
        [
         "46",
         "87.71",
         "0",
         "False",
         "True",
         "True",
         "False"
        ],
        [
         "47",
         "17.57",
         "0",
         "False",
         "True",
         "True",
         "False"
        ],
        [
         "48",
         "19605.49",
         "0",
         "False",
         "False",
         "True",
         "False"
        ],
        [
         "49",
         "424245.0",
         "0",
         "False",
         "True",
         "True",
         "False"
        ]
       ],
       "shape": {
        "columns": 6,
        "rows": 5078345
       }
      },
      "text/html": [
       "<div>\n",
       "<style scoped>\n",
       "    .dataframe tbody tr th:only-of-type {\n",
       "        vertical-align: middle;\n",
       "    }\n",
       "\n",
       "    .dataframe tbody tr th {\n",
       "        vertical-align: top;\n",
       "    }\n",
       "\n",
       "    .dataframe thead th {\n",
       "        text-align: right;\n",
       "    }\n",
       "</style>\n",
       "<table border=\"1\" class=\"dataframe\">\n",
       "  <thead>\n",
       "    <tr style=\"text-align: right;\">\n",
       "      <th></th>\n",
       "      <th>Amount Received</th>\n",
       "      <th>Is Laundering</th>\n",
       "      <th>Is ACH</th>\n",
       "      <th>T/F Bank Diff</th>\n",
       "      <th>Sus. Bank</th>\n",
       "      <th>Sus. Acc.</th>\n",
       "    </tr>\n",
       "  </thead>\n",
       "  <tbody>\n",
       "    <tr>\n",
       "      <th>0</th>\n",
       "      <td>3697.340000</td>\n",
       "      <td>0</td>\n",
       "      <td>False</td>\n",
       "      <td>False</td>\n",
       "      <td>True</td>\n",
       "      <td>False</td>\n",
       "    </tr>\n",
       "    <tr>\n",
       "      <th>1</th>\n",
       "      <td>0.010000</td>\n",
       "      <td>0</td>\n",
       "      <td>False</td>\n",
       "      <td>True</td>\n",
       "      <td>True</td>\n",
       "      <td>False</td>\n",
       "    </tr>\n",
       "    <tr>\n",
       "      <th>2</th>\n",
       "      <td>14675.570000</td>\n",
       "      <td>0</td>\n",
       "      <td>False</td>\n",
       "      <td>False</td>\n",
       "      <td>False</td>\n",
       "      <td>False</td>\n",
       "    </tr>\n",
       "    <tr>\n",
       "      <th>3</th>\n",
       "      <td>2806.970000</td>\n",
       "      <td>0</td>\n",
       "      <td>False</td>\n",
       "      <td>False</td>\n",
       "      <td>True</td>\n",
       "      <td>True</td>\n",
       "    </tr>\n",
       "    <tr>\n",
       "      <th>4</th>\n",
       "      <td>36682.970000</td>\n",
       "      <td>0</td>\n",
       "      <td>False</td>\n",
       "      <td>False</td>\n",
       "      <td>True</td>\n",
       "      <td>False</td>\n",
       "    </tr>\n",
       "    <tr>\n",
       "      <th>...</th>\n",
       "      <td>...</td>\n",
       "      <td>...</td>\n",
       "      <td>...</td>\n",
       "      <td>...</td>\n",
       "      <td>...</td>\n",
       "      <td>...</td>\n",
       "    </tr>\n",
       "    <tr>\n",
       "      <th>5078340</th>\n",
       "      <td>0.154978</td>\n",
       "      <td>0</td>\n",
       "      <td>False</td>\n",
       "      <td>True</td>\n",
       "      <td>False</td>\n",
       "      <td>False</td>\n",
       "    </tr>\n",
       "    <tr>\n",
       "      <th>5078341</th>\n",
       "      <td>0.108128</td>\n",
       "      <td>0</td>\n",
       "      <td>False</td>\n",
       "      <td>True</td>\n",
       "      <td>False</td>\n",
       "      <td>False</td>\n",
       "    </tr>\n",
       "    <tr>\n",
       "      <th>5078342</th>\n",
       "      <td>0.004988</td>\n",
       "      <td>0</td>\n",
       "      <td>False</td>\n",
       "      <td>True</td>\n",
       "      <td>False</td>\n",
       "      <td>False</td>\n",
       "    </tr>\n",
       "    <tr>\n",
       "      <th>5078343</th>\n",
       "      <td>0.038417</td>\n",
       "      <td>0</td>\n",
       "      <td>False</td>\n",
       "      <td>False</td>\n",
       "      <td>False</td>\n",
       "      <td>False</td>\n",
       "    </tr>\n",
       "    <tr>\n",
       "      <th>5078344</th>\n",
       "      <td>0.281983</td>\n",
       "      <td>0</td>\n",
       "      <td>False</td>\n",
       "      <td>True</td>\n",
       "      <td>False</td>\n",
       "      <td>False</td>\n",
       "    </tr>\n",
       "  </tbody>\n",
       "</table>\n",
       "<p>5078345 rows × 6 columns</p>\n",
       "</div>"
      ],
      "text/plain": [
       "         Amount Received  Is Laundering  Is ACH  T/F Bank Diff  Sus. Bank  \\\n",
       "0            3697.340000              0   False          False       True   \n",
       "1               0.010000              0   False           True       True   \n",
       "2           14675.570000              0   False          False      False   \n",
       "3            2806.970000              0   False          False       True   \n",
       "4           36682.970000              0   False          False       True   \n",
       "...                  ...            ...     ...            ...        ...   \n",
       "5078340         0.154978              0   False           True      False   \n",
       "5078341         0.108128              0   False           True      False   \n",
       "5078342         0.004988              0   False           True      False   \n",
       "5078343         0.038417              0   False          False      False   \n",
       "5078344         0.281983              0   False           True      False   \n",
       "\n",
       "         Sus. Acc.  \n",
       "0            False  \n",
       "1            False  \n",
       "2            False  \n",
       "3             True  \n",
       "4            False  \n",
       "...            ...  \n",
       "5078340      False  \n",
       "5078341      False  \n",
       "5078342      False  \n",
       "5078343      False  \n",
       "5078344      False  \n",
       "\n",
       "[5078345 rows x 6 columns]"
      ]
     },
     "execution_count": 36,
     "metadata": {},
     "output_type": "execute_result"
    }
   ],
   "source": [
    "# Column Names Change\n",
    "transactions.rename(columns={'Account': 'Acc. Orig.', 'Account.1': 'Acc. End'}, inplace=True)\n",
    "\n",
    "# Standardization\n",
    "col_to_int = ['From Bank', 'To Bank', 'Is Laundering']\n",
    "col_to_float = ['Amount Received', 'Amount Paid']\n",
    "transactions[col_to_int] = transactions[col_to_int].astype(int)\n",
    "transactions[col_to_float] = transactions[col_to_float].astype(float)\n",
    "transactions['Timestamp'] = pd.to_datetime(transactions['Timestamp'])\n",
    "\n",
    "# Fraudulent vs Non-Fraudulent\n",
    "fraud_true = transactions[transactions['Is Laundering'] == 1]\n",
    "\n",
    "# 'IS_ACH' Payment Format\n",
    "transactions['Is ACH'] = transactions['Payment Format'] == 'ACH'\n",
    "\n",
    "# 'To/From Bank' Difference\n",
    "transactions['T/F Bank Diff'] = transactions['To Bank'] != transactions['From Bank']\n",
    "\n",
    "# Suspicious To Banks\n",
    "list_sus_banks = fraud_true['To Bank'].drop_duplicates().tolist()\n",
    "transactions['Sus. Bank'] = transactions['To Bank'].isin(list_sus_banks)\n",
    "\n",
    "# Suspicious End Accounts\n",
    "list_sus_acc = fraud_true['Acc. End'].drop_duplicates().tolist()\n",
    "transactions['Sus. Acc.'] = transactions['Acc. End'].isin(list_sus_acc)\n",
    "\n",
    "# Drop Uneccessary Columns\n",
    "col_drop = ['Timestamp', 'From Bank', 'Acc. Orig.', \n",
    "            'To Bank', 'Acc. End', 'Receiving Currency', \n",
    "            'Amount Paid', 'Payment Currency', 'Payment Format']\n",
    "transactions.drop(columns=col_drop, inplace=True, axis=1)\n",
    "transactions"
   ]
  },
  {
   "cell_type": "markdown",
   "id": "92774500",
   "metadata": {},
   "source": [
    "## **Random Forest Modeling**"
   ]
  },
  {
   "cell_type": "code",
   "execution_count": 38,
   "id": "fb0ef4cf",
   "metadata": {},
   "outputs": [
    {
     "name": "stdout",
     "output_type": "stream",
     "text": [
      "              precision    recall  f1-score   support\n",
      "\n",
      "           0       1.00      1.00      1.00   1521902\n",
      "           1       0.27      0.39      0.32      1602\n",
      "\n",
      "    accuracy                           1.00   1523504\n",
      "   macro avg       0.64      0.70      0.66   1523504\n",
      "weighted avg       1.00      1.00      1.00   1523504\n",
      "\n",
      "[[1520243    1659]\n",
      " [    974     628]]\n"
     ]
    }
   ],
   "source": [
    "from sklearn.model_selection import train_test_split\n",
    "from sklearn.ensemble import RandomForestClassifier\n",
    "from sklearn.metrics import classification_report, confusion_matrix\n",
    "\n",
    "X = transactions.drop('Is Laundering', axis=1)\n",
    "y = transactions['Is Laundering']\n",
    "\n",
    "X_train, X_test, y_train, y_test = train_test_split(X, y, test_size=0.3, random_state=42)\n",
    "model2 = RandomForestClassifier(n_estimators=50, random_state=5, class_weight='balanced')\n",
    "model2.fit(X_train, y_train)\n",
    "y_pred = model2.predict(X_test)\n",
    "print(classification_report(y_test, y_pred))\n",
    "print(confusion_matrix(y_test, y_pred))"
   ]
  },
  {
   "cell_type": "code",
   "execution_count": 40,
   "id": "f4d06150",
   "metadata": {},
   "outputs": [
    {
     "data": {
      "image/png": "[encoded data removed]",
      "text/plain": [
       "<Figure size 800x600 with 1 Axes>"
      ]
     },
     "metadata": {},
     "output_type": "display_data"
    }
   ],
   "source": [
    "import matplotlib.pyplot as plt\n",
    "from sklearn.metrics import roc_curve, roc_auc_score\n",
    "\n",
    "y_pred_proba = model2.predict_proba(X_test)[:, 1]\n",
    "\n",
    "fpr, tpr, _ = roc_curve(y_test, y_pred_proba)\n",
    "\n",
    "auc_score = roc_auc_score(y_test, y_pred_proba)\n",
    "\n",
    "plt.figure(figsize=(8, 6))\n",
    "plt.plot(fpr, tpr, label=f'Random Forest (AUC = {auc_score:.2f})')\n",
    "plt.plot([0, 1], [0, 1], 'k--', label='Random Classifier (AUC = 0.50)')\n",
    "plt.xlabel('False Positive Rate (FPR)')\n",
    "plt.ylabel('True Positive Rate (TPR)')\n",
    "plt.title('Receiver Operating Characteristic (ROC) Curve')\n",
    "plt.legend(loc=\"lower right\")\n",
    "plt.show()"
   ]
  },
  {
   "cell_type": "markdown",
   "id": "1b1218f8",
   "metadata": {},
   "source": [
    "## **Ending Results**\n",
    "Comparatively, results from the classification report have increased significantly since the first attempt containing no feature engineering. The same can be said for the confusion matrix. In terms of the ROC curve, feature engineering only increased by 0.06 making it not a significant increase."
   ]
  },
  {
   "cell_type": "markdown",
   "id": "d78152d5",
   "metadata": {},
   "source": [
    "#### **References**\n",
    "\n",
    "Altman, E. (2021). IBM transactions for anti-money laundering (AML) [Data set]. Kaggle. https://www.kaggle.com/datasets/ealtman2019/ibm-transactions-for-anti-money-laundering-aml\n",
    "\n",
    "The Editors of Encyclopaedia Britannica. (2024, September 13). Prohibition: United States history [1920–1933]. Encyclopedia Britannica. https://www.britannica.com/event/Prohibition-United-States-history-1920-1933\n",
    "\n",
    "Financial Crime Academy. (n.d.). The history of money laundering. https://financialcrimeacademy.org/the-history-of-money-laundering-2/\n",
    "\n",
    "The HISTORY.com Editors. (2023, June 7). How Prohibition fueled the rise of the American mob. HISTORY. https://www.history.com/articles/prohibition-organized-crime-al-capone\n",
    "\n",
    "U.S. Department of the Treasury. (2021, November 29). Money laundering. https://home.treasury.gov/policy-issues/terrorism-and-illicit-finance/money-laundering"
   ]
  }
 ],
 "metadata": {
  "kernelspec": {
   "display_name": "Python 3",
   "language": "python",
   "name": "python3"
  },
  "language_info": {
   "codemirror_mode": {
    "name": "ipython",
    "version": 3
   },
   "file_extension": ".py",
   "mimetype": "text/x-python",
   "name": "python",
   "nbconvert_exporter": "python",
   "pygments_lexer": "ipython3",
   "version": "3.13.7"
  }
 },
 "nbformat": 4,
 "nbformat_minor": 5
}
